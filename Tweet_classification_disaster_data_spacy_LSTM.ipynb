{
  "cells": [
    {
      "cell_type": "markdown",
      "id": "abd4505f-56bd-45b0-b5b7-5166bd582138",
      "metadata": {
        "id": "abd4505f-56bd-45b0-b5b7-5166bd582138"
      },
      "source": [
        "# Natural Language Processing\n",
        "\n",
        "In this notebook, we will the work on the disaster tweet classification. Here we will:\n",
        "\n",
        "- Transform the data to a pytorch dataset\n",
        "- Build and train LSTM model in pytorch"
      ]
    },
    {
      "cell_type": "code",
      "source": [
        "from google.colab import drive\n",
        "drive.mount('/content/drive/')"
      ],
      "metadata": {
        "colab": {
          "base_uri": "https://localhost:8080/"
        },
        "id": "zr_ZukLRxvWr",
        "outputId": "2e19f6d3-479c-4067-978f-7a49ee65627a"
      },
      "id": "zr_ZukLRxvWr",
      "execution_count": 10,
      "outputs": [
        {
          "output_type": "stream",
          "name": "stdout",
          "text": [
            "Mounted at /content/drive/\n"
          ]
        }
      ]
    },
    {
      "cell_type": "markdown",
      "id": "0d8c5c2b-97e8-4dc8-9c1f-55ea32d0ffcc",
      "metadata": {
        "id": "0d8c5c2b-97e8-4dc8-9c1f-55ea32d0ffcc"
      },
      "source": [
        "## Step1 : Pre-process the data and split to train/test/validate"
      ]
    },
    {
      "cell_type": "markdown",
      "id": "021a77dd-f378-4cbc-9dac-0891a6cfa084",
      "metadata": {
        "id": "021a77dd-f378-4cbc-9dac-0891a6cfa084"
      },
      "source": [
        "In order to use torchtext we need to save *train*, *test* and *validation* datasets into separate files. We need to:\n",
        "- shuffle the data\n",
        "- split the training set further into a training and validation set\n",
        "- save the splits into seperate files suitable for consumption by torchtext"
      ]
    },
    {
      "cell_type": "code",
      "execution_count": 11,
      "id": "34799878-91cb-4f97-902d-7af0a7929a0a",
      "metadata": {
        "id": "34799878-91cb-4f97-902d-7af0a7929a0a"
      },
      "outputs": [],
      "source": [
        "import pandas as pd\n",
        "from sklearn.model_selection import train_test_split\n",
        "import numpy as np\n",
        "import os"
      ]
    },
    {
      "cell_type": "code",
      "execution_count": 12,
      "id": "5e8bb9b4-a057-4fef-a8ea-0cc53d336307",
      "metadata": {
        "id": "5e8bb9b4-a057-4fef-a8ea-0cc53d336307"
      },
      "outputs": [],
      "source": [
        "train_data_path = 'data/train.csv'\n",
        "test_data_path = 'data/test.csv'\n",
        "destination_folder = 'data'"
      ]
    },
    {
      "cell_type": "code",
      "execution_count": 13,
      "id": "16be195c-40f0-4345-b8c8-74392eb15f2d",
      "metadata": {
        "id": "16be195c-40f0-4345-b8c8-74392eb15f2d"
      },
      "outputs": [],
      "source": [
        "# Split the train data further into training and validation sets\n",
        "train_valid_ratio = 0.1\n",
        "first_n_words = 160 # the maximum number of words to keep in the text"
      ]
    },
    {
      "cell_type": "code",
      "execution_count": 14,
      "id": "7d57b4a5-edf4-4461-b484-59d7cdf63edb",
      "metadata": {
        "id": "7d57b4a5-edf4-4461-b484-59d7cdf63edb"
      },
      "outputs": [],
      "source": [
        "def trim_string(st):\n",
        "    st = st.split(maxsplit=first_n_words)\n",
        "    st = ' '.join(st[:first_n_words])\n",
        "    return st"
      ]
    },
    {
      "cell_type": "code",
      "execution_count": 15,
      "id": "e72656aa-bcb3-4f3c-8e27-5c5962ea8eaa",
      "metadata": {
        "id": "e72656aa-bcb3-4f3c-8e27-5c5962ea8eaa"
      },
      "outputs": [],
      "source": [
        "def prepare_csv(df_train, df_test, seed=27, val_ratio=0.3):\n",
        "    idx = np.arange(df_train.shape[0])\n",
        "\n",
        "    np.random.seed(int(seed))\n",
        "    np.random.shuffle(idx)\n",
        "\n",
        "    val_size = int(len(idx) * val_ratio)\n",
        "\n",
        "    if not os.path.exists('cache'):\n",
        "        os.makedirs('cache')\n",
        "\n",
        "    df_train['text'] = df_train['text'].apply(trim_string)\n",
        "    df_test['text'] = df_test['text'].apply(trim_string)\n",
        "\n",
        "    df_train.iloc[idx[val_size:], :][['id', 'target', 'text']].to_csv(\n",
        "        'cache/dataset_train.csv', index=False\n",
        "    )\n",
        "\n",
        "    df_train.iloc[idx[:val_size], :][['id', 'target', 'text']].to_csv(\n",
        "        'cache/dataset_val.csv', index=False\n",
        "    )\n",
        "\n",
        "    df_test[['id','text']].to_csv('cache/dataset_test.csv',\n",
        "                   index=False) # test dataset does not have a target column"
      ]
    },
    {
      "cell_type": "code",
      "execution_count": 16,
      "id": "f9db73cb-10a3-464b-bc99-6b9bae5f668e",
      "metadata": {
        "id": "f9db73cb-10a3-464b-bc99-6b9bae5f668e"
      },
      "outputs": [],
      "source": [
        "prepare_csv(pd.read_csv(train_data_path), pd.read_csv(test_data_path), train_valid_ratio)"
      ]
    },
    {
      "cell_type": "markdown",
      "id": "11d08725-7cad-4c4f-b239-ff8ef8f73cb7",
      "metadata": {
        "id": "11d08725-7cad-4c4f-b239-ff8ef8f73cb7"
      },
      "source": [
        "## Step 2: Load datasets and prepare vocabulary\n",
        "Now we can reload the data we just saved using pytorch's datapipes:"
      ]
    },
    {
      "cell_type": "code",
      "execution_count": 17,
      "id": "a110be13",
      "metadata": {
        "colab": {
          "base_uri": "https://localhost:8080/"
        },
        "id": "a110be13",
        "outputId": "2fd9d891-c783-4ee5-e804-35b48d49926e"
      },
      "outputs": [
        {
          "output_type": "stream",
          "name": "stdout",
          "text": [
            "Requirement already satisfied: wheel in /usr/local/lib/python3.10/dist-packages (0.43.0)\n"
          ]
        }
      ],
      "source": [
        "pip install wheel"
      ]
    },
    {
      "cell_type": "code",
      "execution_count": 18,
      "id": "833be03e-a6b9-4652-9fe8-b16712fe1855",
      "metadata": {
        "id": "833be03e-a6b9-4652-9fe8-b16712fe1855"
      },
      "outputs": [],
      "source": [
        "import matplotlib.pyplot as plt\n",
        "import torch\n",
        "from torchtext import data\n",
        "import torch.nn as nn\n",
        "from torch.nn.utils.rnn import pack_padded_sequence, pad_packed_sequence\n",
        "import torch.optim as optim\n",
        "from sklearn.metrics import accuracy_score, classification_report, confusion_matrix\n",
        "import seaborn as sns\n",
        "import spacy\n",
        "from torchdata.datapipes.iter import FileOpener, IterableWrapper, CSVParser\n",
        "import os"
      ]
    },
    {
      "cell_type": "code",
      "execution_count": 19,
      "id": "51adc512",
      "metadata": {
        "id": "51adc512"
      },
      "outputs": [],
      "source": [
        "device = torch.device('cuda:0' if torch.cuda.is_available()\n",
        "                       else 'cpu')"
      ]
    },
    {
      "cell_type": "code",
      "execution_count": 20,
      "id": "1c11138f-85ef-4459-925d-b684cbaf7798",
      "metadata": {
        "colab": {
          "base_uri": "https://localhost:8080/"
        },
        "id": "1c11138f-85ef-4459-925d-b684cbaf7798",
        "outputId": "e0727d9c-d0d7-4172-ff36-ffb438741c7e"
      },
      "outputs": [
        {
          "output_type": "stream",
          "name": "stdout",
          "text": [
            "[['1', \"@cnni @PrisonPlanet Climate Change CNN weather 'specialist' warning:wild fires rain flooding noting about the sun? http://t.co/0sZwlWL9qU\"], ['0', '@blazerfan not everyone can see ignoranceshe is Latinoand that is All she can ever benothing morebut an attack dog 4 a hate group GOP'], ['1', 'White people I know you worry tirelessly about black on black crime but what are you going to do about your mass murderer problem?'], ['0', 'Chilli heat wave Doritos never fail!'], ['0', '@BroseidonRex @dapurplesharpie I skimmed through twitter and missed this body bagging.']]\n"
          ]
        }
      ],
      "source": [
        "def TweetClassificationDataset(root, split, shuffle=False):\n",
        "    '''Dataset loading function'''\n",
        "    filename = os.path.join(root, \"dataset_\" + split + \".csv\")\n",
        "    data_pipe = FileOpener([filename], encoding=\"utf-8\") # open the file\n",
        "    data_pipe = CSVParser(data_pipe, skip_lines=1)       # read it as a CSV file\n",
        "    data_pipe = data_pipe.drop([0])                      # delete columns we're not using\n",
        "    return data_pipe.shuffle().set_shuffle(shuffle)\n",
        "\n",
        "\n",
        "print(list(TweetClassificationDataset(\"cache\", split='train'))[:5])"
      ]
    },
    {
      "cell_type": "markdown",
      "id": "6bcf4bc5",
      "metadata": {
        "id": "6bcf4bc5"
      },
      "source": [
        "Now we can setup our tokenizer and build the vocabulary. Torchtext allows us to use a basic spacy tokenizer by calling `get_tokenizer(\"spacy\")`. We can then build up a vocabulary of all the words in the training set."
      ]
    },
    {
      "cell_type": "code",
      "execution_count": 21,
      "id": "dcd770cb",
      "metadata": {
        "id": "dcd770cb"
      },
      "outputs": [],
      "source": [
        "from torchtext.data import get_tokenizer\n",
        "from torchtext.vocab import build_vocab_from_iterator\n",
        "import spacy\n",
        "from spacy.tokenizer import Tokenizer\n",
        "\n",
        "train_dataset  = TweetClassificationDataset(\"cache\", split='train', shuffle=True)\n",
        "tokenizer      = spacy.load(\"en_core_web_sm\")\n",
        "\n",
        "\n",
        "def build_vocabulary(datasets):\n",
        "    for dataset in datasets:\n",
        "        for _, text  in dataset:\n",
        "            yield tokenizer(text.lower())\n",
        "\n",
        "vocab = build_vocab_from_iterator(build_vocabulary([train_dataset]), min_freq=3, specials=[\"<pad>\", \"<unk>\"])\n",
        "vocab.set_default_index(vocab[\"<unk>\"]) # if a word is not in the vocab - use the <unk> token"
      ]
    },
    {
      "cell_type": "markdown",
      "id": "204d1495",
      "metadata": {
        "id": "204d1495"
      },
      "source": [
        "We can now test out our tokenizer on a sample string. Notice how the out-of-vocabulary word `nlptown` is given the ID `1` in the output - this is the `<unk>` token."
      ]
    },
    {
      "cell_type": "code",
      "execution_count": 24,
      "id": "b76ac103",
      "metadata": {
        "colab": {
          "base_uri": "https://localhost:8080/"
        },
        "id": "b76ac103",
        "outputId": "d0ecf65e-b5b2-4a54-e431-bf7a5b6233f2"
      },
      "outputs": [
        {
          "output_type": "stream",
          "name": "stdout",
          "text": [
            "I saw a forest fire yesterday in nlptown. [1, 1, 1, 1, 1, 1, 1, 1, 1]\n"
          ]
        }
      ],
      "source": [
        "# Test tokenizing\n",
        "tokens = tokenizer(\"I saw a forest fire yesterday in nlptown.\")\n",
        "tokens_list = [token.text for token in tokens]  # Convert Doc to list\n",
        "print(tokens, vocab(tokens_list))  # Pass list to vocab\n"
      ]
    },
    {
      "cell_type": "markdown",
      "id": "1fe463fd",
      "metadata": {
        "id": "1fe463fd"
      },
      "source": [
        "We can print out some of the vocab:"
      ]
    },
    {
      "cell_type": "code",
      "execution_count": 25,
      "id": "f58238f6",
      "metadata": {
        "scrolled": true,
        "colab": {
          "base_uri": "https://localhost:8080/"
        },
        "id": "f58238f6",
        "outputId": "b048e59f-1285-422f-c596-aa9d14bf7ab2"
      },
      "outputs": [
        {
          "output_type": "stream",
          "name": "stdout",
          "text": [
            "['<pad>', '<unk>']\n"
          ]
        }
      ],
      "source": [
        "print(vocab.vocab.get_itos()[:200])"
      ]
    },
    {
      "cell_type": "markdown",
      "id": "aecdab5d-62a2-42f0-bbe7-da4a5b918d8c",
      "metadata": {
        "id": "aecdab5d-62a2-42f0-bbe7-da4a5b918d8c"
      },
      "source": [
        "Next we can use this tokenization functionality to turn batches of data into vectors, ready to be input into the classifier. We do this using a `DataLoader`.\n",
        "\n",
        "There are 2 key arguments we pass to the `DataLoader`:\n",
        "- `batch_sampler` - this argument defines how we split the dataset into batches. In our example we're using bucket sampling which groups texts of similar lengths together, minimising the amount of padding we need to do and speeding up training time.\n",
        "- `collate_fn` - this is a function which takes a batch of data (label,text) and converts this into a input for the model. This involves tokenizing and vectorizing the data using the tokenizer we defined previously. We also add the special tokens."
      ]
    },
    {
      "cell_type": "code",
      "execution_count": 48,
      "id": "30994130",
      "metadata": {
        "scrolled": true,
        "id": "30994130"
      },
      "outputs": [],
      "source": [
        "from torch.utils.data import DataLoader, Sampler\n",
        "from torchtext.data.functional import to_map_style_dataset\n",
        "from torch.nn.utils.rnn import pad_sequence\n",
        "import random\n",
        "\n",
        "BATCH_SIZE = 32\n",
        "\n",
        "train_dataset  = TweetClassificationDataset(\"cache\", split='train', shuffle=True)\n",
        "val_dataset    = TweetClassificationDataset(\"cache\", split='val')\n",
        "train_dataset, val_dataset  = to_map_style_dataset(train_dataset), to_map_style_dataset(val_dataset)\n",
        "\n",
        "def vectorize_batch(batch):\n",
        "    text_list = []\n",
        "    label_list = []\n",
        "    for (_label, _text) in batch:\n",
        "        label_list.append(int(_label))\n",
        "        tokens = [token.text for token in tokenizer(_text.lower())]\n",
        "        text_list.append(torch.tensor(vocab(tokens)))\n",
        "    return pad_sequence(text_list, padding_value=vocab.lookup_indices([\"<pad>\"])[0], batch_first=True), torch.tensor(label_list)\n",
        "\n",
        "class BucketSampler(Sampler):\n",
        "    '''Tells the DataLoader how to split the dataset into buckets.\n",
        "       We do this based on text length - make sure batches have similar text lengths to reduce padding.\n",
        "    '''\n",
        "    def __init__(self, dataset, batch_size):\n",
        "        train_list = list(dataset)\n",
        "        indices = [(i, len(tokenizer(s[1]))) for i, s in enumerate(train_list)]\n",
        "        random.shuffle(indices)\n",
        "        self.batch_size = batch_size\n",
        "\n",
        "        # create pool of indices with similar lengths\n",
        "        self.pooled_indices = []\n",
        "        for i in range(0, len(indices), self.batch_size * 100):\n",
        "            self.pooled_indices.extend(sorted(indices[i:i + self.batch_size * 100], key=lambda x: x[1]))\n",
        "        self.pooled_indices = [x[0] for x in self.pooled_indices]\n",
        "\n",
        "    def __iter__(self):\n",
        "        self.count = 0\n",
        "        return self\n",
        "\n",
        "    def __next__(self):\n",
        "        # yield indices for current batch\n",
        "        if self.count >= len(self.pooled_indices)-self.batch_size:\n",
        "            raise StopIteration\n",
        "\n",
        "        indices = self.pooled_indices[self.count:self.count + self.batch_size]\n",
        "        self.count += self.batch_size\n",
        "        return indices\n",
        "\n",
        "    def __len__(self):\n",
        "        return len(self.pooled_indices)//self.batch_size\n",
        "\n",
        "\n",
        "train_loader = DataLoader(train_dataset, collate_fn=vectorize_batch, batch_sampler=BucketSampler(train_dataset, batch_size=BATCH_SIZE))\n",
        "val_loader   = DataLoader(val_dataset,   collate_fn=vectorize_batch, batch_sampler=BucketSampler(val_dataset, batch_size=BATCH_SIZE))#, batch_size=BATCH_SIZE)"
      ]
    },
    {
      "cell_type": "markdown",
      "id": "423ea9b1-151b-4fd6-b2cb-3c04537ae547",
      "metadata": {
        "id": "423ea9b1-151b-4fd6-b2cb-3c04537ae547"
      },
      "source": [
        "### Step 3: Build the LSTM model"
      ]
    },
    {
      "cell_type": "markdown",
      "id": "feebf8dc-efad-4767-bb09-1f8efa65a38c",
      "metadata": {
        "id": "feebf8dc-efad-4767-bb09-1f8efa65a38c"
      },
      "source": [
        "For this task we will try to use an LSTM network.\n",
        "\n",
        "First we write a new sub class to torch.nn.Module. The structure of the model is defined in the \\__init__ of the class, while the forward method describes the computation of the forward pass.\n",
        "\n",
        "The network consists of n_layers:\n",
        "- an embedding layer is added to the input\n",
        "- 1 LSTM layer\n",
        "- a dropout is added\n",
        "- a linear layer\n",
        "- a final layer with sigmoid activation function"
      ]
    },
    {
      "cell_type": "code",
      "execution_count": 49,
      "id": "1b5f2316-8a91-4344-b171-5e95ad94e2ed",
      "metadata": {
        "colab": {
          "base_uri": "https://localhost:8080/"
        },
        "id": "1b5f2316-8a91-4344-b171-5e95ad94e2ed",
        "outputId": "89ee546d-363b-42d2-c45e-7288a568c727"
      },
      "outputs": [
        {
          "output_type": "stream",
          "name": "stdout",
          "text": [
            "Layers:\n",
            "\tEmbedding(2, 300)\n",
            "\tLSTM(300, 64, batch_first=True, bidirectional=True)\n",
            "\tDropout(p=0.5, inplace=False)\n",
            "\tLinear(in_features=128, out_features=1, bias=True)\n"
          ]
        }
      ],
      "source": [
        "from torch import nn\n",
        "from torch.nn import functional as F\n",
        "\n",
        "class TEXT_LSTM(nn.Module):\n",
        "    def __init__(self, dimension=64):\n",
        "        super(TEXT_LSTM, self).__init__()\n",
        "        self.embedding_layer = nn.Embedding(len(vocab), 300)\n",
        "        self.rnn = nn.LSTM(\n",
        "            input_size=300,\n",
        "            hidden_size=dimension,\n",
        "            num_layers=1,\n",
        "            bidirectional=True,\n",
        "            batch_first=True)\n",
        "        self.drop = nn.Dropout(p=0.5)\n",
        "        self.fc = nn.Linear(2*dimension, 1)\n",
        "\n",
        "    def forward(self, X_batch):\n",
        "        embeddings = self.embedding_layer(X_batch)\n",
        "        output, hidden = self.rnn(embeddings)\n",
        "        text_fea = self.drop(output[:,-1])\n",
        "        text_fea = self.fc(text_fea)\n",
        "        text_fea = torch.squeeze(text_fea,1)\n",
        "        text_out = torch.sigmoid(text_fea)\n",
        "        return text_out\n",
        "\n",
        "\n",
        "# Print out the layers\n",
        "model = TEXT_LSTM()\n",
        "print(\"Layers:\")\n",
        "for layer in model.children():\n",
        "    print(\"\\t{}\".format(layer))"
      ]
    },
    {
      "cell_type": "markdown",
      "id": "912a6b66-300f-4aa2-ad38-1b1b3e45d798",
      "metadata": {
        "id": "912a6b66-300f-4aa2-ad38-1b1b3e45d798"
      },
      "source": [
        "### Step 4: Training"
      ]
    },
    {
      "cell_type": "markdown",
      "id": "9f77ccd0",
      "metadata": {
        "id": "9f77ccd0"
      },
      "source": [
        "First we define a set of helper functions which will allow us to save and load our progress while training:"
      ]
    },
    {
      "cell_type": "code",
      "execution_count": 50,
      "id": "32d7a3fa-1384-4660-bcc9-63d2f86e411f",
      "metadata": {
        "id": "32d7a3fa-1384-4660-bcc9-63d2f86e411f"
      },
      "outputs": [],
      "source": [
        "def save_checkpoint(save_path,model,optimizer,valid_loss):\n",
        "    if save_path == None:\n",
        "        return\n",
        "    state_dict ={'model_state_dict': model.state_dict(),\n",
        "                 'optimizer_state_dict': optimizer.state_dict(),\n",
        "                 'valid_loss': valid_loss}\n",
        "    torch.save(state_dict, save_path)\n",
        "    print(f'Model saved to ==> {save_path}')\n",
        "\n",
        "def load_checkpoint(load_path,model,optimizer):\n",
        "    if load_path == None:\n",
        "        return\n",
        "    state_dict = torch.load(load_path)\n",
        "    print(f'Model loaded from <== {load_path}')\n",
        "\n",
        "    model.load_state_dict(state_dict['model_state_dict'])\n",
        "    optimizer.load_state_dict(state_dict['optimizer_state_dict'])\n",
        "\n",
        "    return state_dict['valid_loss']\n",
        "\n",
        "def save_metrics(save_path,train_loss_list, valid_loss_list,global_steps_list):\n",
        "    if save_path==None:\n",
        "        return\n",
        "    state_dict= {'train_loss_list': train_loss_list,\n",
        "                 'valid_loss_list': valid_loss_list,\n",
        "                 'global_steps_list': global_steps_list}\n",
        "    torch.save(state_dict, save_path)\n",
        "    print(f'Metrics saved to ==> {save_path}')\n",
        "\n",
        "def load_metrics(load_path):\n",
        "    if load_path == None:\n",
        "        return\n",
        "    state_dict = torch.load(load_path)\n",
        "    print(f'Metrics loaded from <== {load_path}')\n",
        "    return state_dict['train_loss_list'],state_dict['valid_loss_list'],state_dict['global_steps_list']"
      ]
    },
    {
      "cell_type": "markdown",
      "id": "c407bda8-881c-4a31-ac8c-d1161a06e34c",
      "metadata": {
        "id": "c407bda8-881c-4a31-ac8c-d1161a06e34c"
      },
      "source": [
        "To train the model for each epoch on the training set:\n",
        "\n",
        "- for each batch:\n",
        "- do a forward pass to get model prediction\n",
        "- calculate the loss\n",
        "- do the backward pass to update the model parameters\n",
        "\n",
        "To evaluate the model on the validation set:\n",
        "- run the forward pass (with no_grad option)\n",
        "- calculate the loss"
      ]
    },
    {
      "cell_type": "markdown",
      "id": "e4c409ad",
      "metadata": {
        "id": "e4c409ad"
      },
      "source": [
        "Now we build our main training loop:"
      ]
    },
    {
      "cell_type": "code",
      "execution_count": 56,
      "id": "2a0d8e51",
      "metadata": {
        "colab": {
          "base_uri": "https://localhost:8080/"
        },
        "id": "2a0d8e51",
        "outputId": "097b3251-1507-4a11-ec8e-cc48a5af142c"
      },
      "outputs": [
        {
          "output_type": "stream",
          "name": "stdout",
          "text": [
            "Training is Done!\n"
          ]
        }
      ],
      "source": [
        "import torch\n",
        "from torch import nn, optim\n",
        "from torch.nn.utils.rnn import pad_sequence\n",
        "import matplotlib.pyplot as plt\n",
        "\n",
        "destination_folder = \"output\"\n",
        "if not os.path.exists(destination_folder):\n",
        "    os.makedirs(destination_folder)\n",
        "\n",
        "\n",
        "def save_checkpoint(file_path, model, optimizer, loss):\n",
        "    torch.save({\n",
        "        'model_state_dict': model.state_dict(),\n",
        "        'optimizer_state_dict': optimizer.state_dict(),\n",
        "        'valid_loss': loss,\n",
        "    }, file_path)\n",
        "\n",
        "def save_metrics(file_path, train_loss_list, valid_loss_list, global_steps_list):\n",
        "    torch.save({\n",
        "        'train_loss_list': train_loss_list,\n",
        "        'valid_loss_list': valid_loss_list,\n",
        "        'global_steps_list': global_steps_list\n",
        "    }, file_path)\n",
        "\n",
        "def load_metrics(file_path):\n",
        "    metrics = torch.load(file_path)\n",
        "    return metrics['train_loss_list'], metrics['valid_loss_list'], metrics['global_steps_list']\n",
        "\n",
        "def train(model, optimizer, criterion, train_loader, valid_loader, num_epochs, eval_every, file_path, best_valid_loss):\n",
        "    running_loss = 0.0\n",
        "    valid_running_loss = 0.0\n",
        "    global_step = 0\n",
        "    train_loss_list = []\n",
        "    valid_loss_list = []\n",
        "    global_steps_list = []\n",
        "\n",
        "    model.train()\n",
        "\n",
        "    for epoch in range(num_epochs):\n",
        "      for text, labels in train_loader:\n",
        "        text, labels = text.to(device), labels.to(device)\n",
        "        output = model(text)\n",
        "        loss = criterion(output.to(torch.float32), labels.to(torch.float32))\n",
        "        optimizer.zero_grad()\n",
        "        loss.backward()\n",
        "        optimizer.step()\n",
        "\n",
        "        running_loss += loss.item()\n",
        "        global_step += 1\n",
        "\n",
        "        if global_step % eval_every == 0:\n",
        "          model.eval()\n",
        "          with torch.no_grad():\n",
        "              for text, labels in valid_loader:\n",
        "                text, labels = text.to(device), labels.to(device)\n",
        "                output = model(text)\n",
        "                loss = criterion(output.to(torch.float32), labels.to(torch.float32))\n",
        "                valid_running_loss += loss.item()\n",
        "\n",
        "                average_train_loss = running_loss / eval_every\n",
        "                average_valid_loss = valid_running_loss / len(valid_loader)\n",
        "                train_loss_list.append(average_train_loss)\n",
        "                valid_loss_list.append(average_valid_loss)\n",
        "                global_steps_list.append(global_step)\n",
        "\n",
        "                running_loss = 0.0\n",
        "                valid_running_loss = 0.0\n",
        "                model.train()\n",
        "\n",
        "                if best_valid_loss > average_valid_loss:\n",
        "                    best_valid_loss = average_valid_loss\n",
        "                    save_checkpoint(file_path + '/model.pt', model, optimizer, best_valid_loss)\n",
        "                    save_metrics(file_path + '/metrics.pt', train_loss_list, valid_loss_list, global_steps_list)\n",
        "\n",
        "    save_metrics(file_path + '/metrics.pt', train_loss_list, valid_loss_list, global_steps_list)\n",
        "    print('Training is Done!')\n",
        "\n",
        "loss_fn = nn.BCELoss()\n",
        "optimizer = optim.Adam(model.parameters(), lr=1e-3)\n",
        "model = model.to(device)\n",
        "destination_folder = \"output\"\n",
        "train(model, optimizer, loss_fn, train_loader, val_loader, num_epochs=5, eval_every=len(train_loader)//2, file_path=destination_folder, best_valid_loss=float(\"Inf\"))"
      ]
    },
    {
      "cell_type": "markdown",
      "id": "b07549b5",
      "metadata": {
        "id": "b07549b5"
      },
      "source": [
        "Now the training is done, lets have a look at what happened to the training and validation losses:"
      ]
    },
    {
      "cell_type": "code",
      "execution_count": 57,
      "id": "52ae4cbc-b9b2-4ca0-a9a0-9f4ad1da9eb5",
      "metadata": {
        "colab": {
          "base_uri": "https://localhost:8080/",
          "height": 449
        },
        "id": "52ae4cbc-b9b2-4ca0-a9a0-9f4ad1da9eb5",
        "outputId": "8c3409fc-2d5a-4c0b-ce60-8902ac68173f"
      },
      "outputs": [
        {
          "output_type": "display_data",
          "data": {
            "text/plain": [
              "<Figure size 640x480 with 1 Axes>"
            ],
            "image/png": "[encoded data removed]"
          },
          "metadata": {}
        }
      ],
      "source": [
        "# Load metrics and plot\n",
        "train_loss_list, valid_loss_list, global_steps_list = load_metrics(destination_folder + '/metrics.pt')\n",
        "plt.plot(global_steps_list, train_loss_list, label='Train')\n",
        "plt.plot(global_steps_list, valid_loss_list, label='Valid')\n",
        "plt.xlabel('Global Steps')\n",
        "plt.ylabel('Loss')\n",
        "plt.legend()\n",
        "plt.show()"
      ]
    },
    {
      "cell_type": "markdown",
      "id": "ef9b4add-4786-48a9-88e7-83cbfac35ad3",
      "metadata": {
        "id": "ef9b4add-4786-48a9-88e7-83cbfac35ad3"
      },
      "source": [
        "### Step 5: Evaluation\n",
        "Reload the best performing model from the training run and evaluate it using the sklearn evaluation tools:"
      ]
    },
    {
      "cell_type": "code",
      "execution_count": 58,
      "id": "7e665dea-4e0e-47b8-86f8-f2cac8248fc2",
      "metadata": {
        "id": "7e665dea-4e0e-47b8-86f8-f2cac8248fc2"
      },
      "outputs": [],
      "source": [
        "def evaluate(model, test_loader, version='title', threshold=0.5):\n",
        "    y_pred = []\n",
        "    y_true = []\n",
        "    model.eval()\n",
        "    with torch.no_grad():\n",
        "        for text, labels in test_loader:\n",
        "            labels = labels.to(device)\n",
        "            text = text.to(device)\n",
        "            #text_len = text_len.to(device)\n",
        "            output = model(text)\n",
        "\n",
        "            output = (output > threshold).int()\n",
        "            y_pred.extend(output.tolist())\n",
        "            y_true.extend(labels.tolist())\n",
        "\n",
        "    print('Classification Report:')\n",
        "    print(classification_report(y_true,y_pred,labels=[1,0], digits=4))\n",
        "\n",
        "    cm = confusion_matrix(y_true,y_pred,labels=[1,0])\n",
        "    ax = plt.subplot()\n",
        "    sns.heatmap(cm,annot=True, ax=ax,cmap='Blues',fmt='d')\n",
        "\n",
        "    ax.set_title('Confusion Matrix')\n",
        "    ax.set_xlabel('Predicated Labels')\n",
        "    ax.set_ylabel('True Labels')\n",
        "\n",
        "    ax.xaxis.set_ticklabels(['Real','Irrelevant'])\n",
        "    ax.yaxis.set_ticklabels(['Real','Irrelevant'])"
      ]
    },
    {
      "cell_type": "code",
      "execution_count": 59,
      "id": "d4dd6818-f08e-404b-bda6-e0072881855f",
      "metadata": {
        "colab": {
          "base_uri": "https://localhost:8080/",
          "height": 787
        },
        "id": "d4dd6818-f08e-404b-bda6-e0072881855f",
        "outputId": "aba3b9aa-1aae-41dc-81bb-92c17ffbc6c2"
      },
      "outputs": [
        {
          "output_type": "stream",
          "name": "stdout",
          "text": [
            "Model loaded from <== output/model.pt\n",
            "Classification Report:\n",
            "              precision    recall  f1-score   support\n",
            "\n",
            "           1     0.0000    0.0000    0.0000       943\n",
            "           0     0.5849    1.0000    0.7381      1329\n",
            "\n",
            "    accuracy                         0.5849      2272\n",
            "   macro avg     0.2925    0.5000    0.3691      2272\n",
            "weighted avg     0.3422    0.5849    0.4318      2272\n",
            "\n"
          ]
        },
        {
          "output_type": "stream",
          "name": "stderr",
          "text": [
            "/usr/local/lib/python3.10/dist-packages/sklearn/metrics/_classification.py:1344: UndefinedMetricWarning: Precision and F-score are ill-defined and being set to 0.0 in labels with no predicted samples. Use `zero_division` parameter to control this behavior.\n",
            "  _warn_prf(average, modifier, msg_start, len(result))\n",
            "/usr/local/lib/python3.10/dist-packages/sklearn/metrics/_classification.py:1344: UndefinedMetricWarning: Precision and F-score are ill-defined and being set to 0.0 in labels with no predicted samples. Use `zero_division` parameter to control this behavior.\n",
            "  _warn_prf(average, modifier, msg_start, len(result))\n",
            "/usr/local/lib/python3.10/dist-packages/sklearn/metrics/_classification.py:1344: UndefinedMetricWarning: Precision and F-score are ill-defined and being set to 0.0 in labels with no predicted samples. Use `zero_division` parameter to control this behavior.\n",
            "  _warn_prf(average, modifier, msg_start, len(result))\n"
          ]
        },
        {
          "output_type": "display_data",
          "data": {
            "text/plain": [
              "<Figure size 640x480 with 2 Axes>"
            ],
            "image/png": "[encoded data removed]"
          },
          "metadata": {}
        }
      ],
      "source": [
        "best_model = TEXT_LSTM().to(device)\n",
        "optimizer = optim.Adam(best_model.parameters(), lr = 0.001)\n",
        "load_checkpoint(destination_folder+'/model.pt',best_model,optimizer)\n",
        "evaluate(best_model, val_loader)"
      ]
    },
    {
      "cell_type": "code",
      "source": [],
      "metadata": {
        "id": "WM5ml02t3oWT"
      },
      "id": "WM5ml02t3oWT",
      "execution_count": 59,
      "outputs": []
    }
  ],
  "metadata": {
    "kernelspec": {
      "display_name": "Python 3",
      "name": "python3"
    },
    "language_info": {
      "codemirror_mode": {
        "name": "ipython",
        "version": 3
      },
      "file_extension": ".py",
      "mimetype": "text/x-python",
      "name": "python",
      "nbconvert_exporter": "python",
      "pygments_lexer": "ipython3",
      "version": "3.9.15"
    },
    "colab": {
      "provenance": [],
      "gpuType": "T4"
    },
    "accelerator": "GPU"
  },
  "nbformat": 4,
  "nbformat_minor": 5
}